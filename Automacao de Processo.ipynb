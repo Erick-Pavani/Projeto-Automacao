{
 "cells": [
  {
   "cell_type": "markdown",
   "metadata": {},
   "source": [
    "### Passo 1 - Importar Arquivos e Bibliotecas"
   ]
  },
  {
   "cell_type": "code",
   "execution_count": 2,
   "metadata": {},
   "outputs": [],
   "source": [
    "# Imports\n",
    "import pandas as pd\n",
    "from pathlib import Path\n",
    "import win32com.client as win32\n",
    "import time"
   ]
  },
  {
   "cell_type": "markdown",
   "metadata": {},
   "source": [
    "### Passo 2 - Definir Criar uma Tabela para cada Loja e Definir o dia do Indicador"
   ]
  },
  {
   "cell_type": "code",
   "execution_count": 3,
   "metadata": {},
   "outputs": [],
   "source": [
    "# Ler as bases de dados\n",
    "emails = pd.read_excel(r'Bases de Dados\\Emails.xlsx')\n",
    "vendas = pd.read_excel(r'Bases de Dados\\Vendas.xlsx')\n",
    "lojas = pd.read_csv(r'Bases de Dados\\Lojas.csv', encoding='latin1', sep=';')"
   ]
  },
  {
   "cell_type": "code",
   "execution_count": 4,
   "metadata": {},
   "outputs": [],
   "source": [
    "# Mesclar as duas tabelas\n",
    "vendas = vendas.merge(lojas, on=\"ID Loja\")\n",
    "\n",
    "# Pega o dia da operação\n",
    "dia = vendas['Data'].max()\n",
    "# print(f'{dia.day}/{dia.month}/{dia.year}')"
   ]
  },
  {
   "cell_type": "code",
   "execution_count": 5,
   "metadata": {},
   "outputs": [],
   "source": [
    "meta_faturamento_dia = 1000\n",
    "meta_faturamento_ano = 1650000\n",
    "meta_qtdprodutos_dia = 4\n",
    "meta_qtdprodutos_ano = 120\n",
    "meta_ticket_dia = 500\n",
    "meta_ticket_ano = 500"
   ]
  },
  {
   "cell_type": "code",
   "execution_count": 6,
   "metadata": {},
   "outputs": [],
   "source": [
    "# Criando e preenchendo um dicionário de dataframes com as keys sendo o nome de cada loja\n",
    "dic_lojas = {}\n",
    "for loja in lojas[\"Loja\"]:\n",
    "    dic_lojas[loja] = vendas.loc[vendas[\"Loja\"] == loja , :]"
   ]
  },
  {
   "cell_type": "markdown",
   "metadata": {},
   "source": [
    "### Passo 3 - Salvar a planilha na pasta de backup"
   ]
  },
  {
   "cell_type": "code",
   "execution_count": 7,
   "metadata": {},
   "outputs": [],
   "source": [
    "caminho = Path(r'Backup Arquivos Lojas')\n",
    "arquivos = caminho.iterdir()\n",
    "\n",
    "# Criar uma lista com o nome das lojas\n",
    "lista_arquivos = [arquivo.name for arquivo in arquivos]\n",
    "\n",
    "\n",
    "# Verificar a existência das pastas\n",
    "for loja in dic_lojas:\n",
    "    if loja not in lista_arquivos:\n",
    "        criar = caminho / loja\n",
    "        criar.mkdir()\n",
    "    nome_arquivo = f'{dia.day}-{dia.month}-{dia.year}-{loja}.xlsx'\n",
    "    local = caminho / loja / nome_arquivo\n",
    "    dic_lojas[loja].to_excel(local)"
   ]
  },
  {
   "cell_type": "markdown",
   "metadata": {},
   "source": [
    "### Passo 4 - Calcular o indicador para 1 loja"
   ]
  },
  {
   "cell_type": "code",
   "execution_count": 8,
   "metadata": {
    "scrolled": true
   },
   "outputs": [
    {
     "name": "stdout",
     "output_type": "stream",
     "text": [
      "Email da loja - Iguatemi Esplanada foi enviado com sucesso!\n"
     ]
    }
   ],
   "source": [
    "for loja in dic_lojas:\n",
    "    vendas_loja = dic_lojas[loja]\n",
    "    vendas_dia = vendas_loja.loc[vendas_loja['Data'] == dia, :]\n",
    "    \n",
    "    # Calculando o faturamento\n",
    "    faturamento_ano = vendas_loja['Valor Final'].sum()\n",
    "    faturamento_dia = vendas_dia['Valor Final'].sum()\n",
    "\n",
    "    # Calculando as quantidades de produtos diferentes\n",
    "    qtd_prod_ano = len(vendas_loja['Produto'].unique())\n",
    "    qtd_prod_dia = len(vendas_dia['Produto'].unique())\n",
    "\n",
    "    # Calculando o ticket médio\n",
    "    valor_venda_ano = vendas_loja.groupby('Código Venda').sum()\n",
    "    ticket_medio_ano = valor_venda_ano['Valor Final'].mean()\n",
    "    valor_venda_dia = vendas_dia.groupby('Código Venda').sum()\n",
    "    ticket_medio_dia = valor_venda_dia['Valor Final'].mean()\n",
    "\n",
    "    # Pegando novamente o nome dos arquivos\n",
    "    nome_arquivo = f'{dia.day}-{dia.month}-{dia.year}-{loja}.xlsx'\n",
    "\n",
    "    # Montando o e-mail\n",
    "    outlook = win32.Dispatch('outlook.application')\n",
    "\n",
    "    nome_email = emails.loc[emails[\"Loja\"] == loja, \"Gerente\"].values[0]\n",
    "    mail = outlook.CreateItem(0)\n",
    "    mail.To = emails.loc[emails[\"Loja\"] == loja, \"E-mail\"].values[0]\n",
    "    mail.Subject = 'One Page - {}/{}/{} - Loja: {}'.format(dia.day, dia.month, dia.year, loja)\n",
    "\n",
    "    mail.HTMLBody = f\"\"\"\n",
    "    <p>Bom dia, <b>{nome_email}</b></p>\n",
    "\n",
    "    <p> O <b>resultado</b> de ontem <b>({dia.day}/{dia.month}/{dia.year})</b> da loja <b>{loja}</b> foi:<p>\n",
    "\n",
    "    <table style=\"background: black; color: blue;\">\n",
    "        <tr>\n",
    "            <th>Indicador</th>\n",
    "            <th>Valor Dia</th>\n",
    "            <th>Meta Dia</th>\n",
    "            <th>Cenário Dia</th>\n",
    "        </tr>\n",
    "        <tr>\n",
    "            <td>Faturamento</td>\n",
    "            <td>{faturamento_dia}</td>\n",
    "            <td>{meta_faturamento_dia}</td>\n",
    "            <td style=\"color: {\"green\" if faturamento_dia >= meta_faturamento_dia else \"red\"};\">◙</td>\n",
    "        </tr>\n",
    "        <tr>\n",
    "            <td>Diversidade de Produtos</td>\n",
    "            <td>{qtd_prod_dia}</td>\n",
    "            <td>{meta_qtdprodutos_dia}</td>\n",
    "            <td style=\"color: {\"green\" if qtd_prod_dia >= meta_qtdprodutos_dia else \"red\"};\">◙</td>\n",
    "        </tr>\n",
    "        <tr>\n",
    "            <td>Ticket Médio</td>\n",
    "            <td>{ticket_medio_dia}</td>\n",
    "            <td>{meta_ticket_dia}</td>\n",
    "            <td style=\"color: {\"green\" if ticket_medio_dia >= meta_ticket_dia else \"red\"};\">◙</td>\n",
    "        </tr>\n",
    "    </table>\n",
    "    <br>\n",
    "    <table style=\"background: black; color: blue;\">\n",
    "        <tr>\n",
    "            <th>Indicador</th>\n",
    "            <th>Valor Ano</th>\n",
    "            <th>Meta Ano</th>\n",
    "            <th>Cenário Ano</th>\n",
    "        </tr>\n",
    "        <tr>\n",
    "            <td>Faturamento</td>\n",
    "            <td>{faturamento_ano}</td>\n",
    "            <td>{meta_faturamento_ano}</td>\n",
    "            <td style=\"color: {\"green\" if faturamento_ano >= meta_faturamento_ano else \"red\"};\">◙</td>\n",
    "        </tr>\n",
    "        <tr>\n",
    "            <td>Diversidade de Produtos</td>\n",
    "            <td>{qtd_prod_ano}</td>\n",
    "            <td>{meta_qtdprodutos_ano}</td>\n",
    "            <td style=\"color: {\"green\" if qtd_prod_ano >= meta_qtdprodutos_ano else \"red\"};\">◙</td>\n",
    "        </tr>\n",
    "        <tr>\n",
    "            <td>Ticket Médio</td>\n",
    "            <td>{ticket_medio_ano}</td>\n",
    "            <td>{meta_ticket_ano}</td>\n",
    "            <td style=\"color: {\"green\" if ticket_medio_ano >= meta_ticket_ano else \"red\"};\">◙</td>\n",
    "        </tr>\n",
    "    </table>\n",
    "    <p>Segue em <b>anexo</b> a planilha com todos os dados para mais detalhes.</p>\n",
    "\n",
    "    <p>Qualquer dúvida estou à disposição!</p>\n",
    "    <p>Att. <b>Erick</b></p>\n",
    "    \"\"\"\n",
    "\n",
    "    attachment =  Path.cwd() / caminho / loja / nome_arquivo\n",
    "    mail.Attachments.Add(str(attachment))\n",
    "\n",
    "    mail.Send()\n",
    "\n",
    "    print(f\"Email da loja - {loja} foi enviado com sucesso!\")\n",
    "\n",
    "    time.sleep(60)"
   ]
  },
  {
   "cell_type": "markdown",
   "metadata": {},
   "source": [
    "### Passo 5 - Enviar por e-mail para o gerente"
   ]
  },
  {
   "cell_type": "code",
   "execution_count": null,
   "metadata": {},
   "outputs": [],
   "source": []
  },
  {
   "cell_type": "markdown",
   "metadata": {},
   "source": [
    "### Passo 6 - Automatizar todas as lojas"
   ]
  },
  {
   "cell_type": "markdown",
   "metadata": {},
   "source": [
    "### Passo 7 - Criar ranking para diretoria"
   ]
  },
  {
   "cell_type": "code",
   "execution_count": null,
   "metadata": {},
   "outputs": [],
   "source": [
    "# Calculando o ranking do valor total das vendas anuais\n",
    "faturamento_lojas = vendas.groupby('Loja')[['Loja', 'Valor Final']].sum()\n",
    "faturamento_lojas = faturamento_lojas.sort_values(by = 'Valor Final', ascending = False)\n",
    "\n",
    "# Criando os arquivos em excel\n",
    "nome_arquivo = f'{dia.year}-RankingAnual.xlsx'\n",
    "faturamento_lojas.to_excel(rf'Backup Arquivos Lojas\\{nome_arquivo}')\n",
    "\n",
    "# Calculando o ranking do valor total das vendas diárias\n",
    "vendas_dia = vendas.loc[vendas['Data'] == dia, :]\n",
    "faturamento_lojas_dia = vendas.groupby('Loja')[['Loja', 'Valor Final']].sum()\n",
    "faturamento_lojas_dia = faturamento_lojas_dia.sort_values(by = 'Valor Final', ascending = False)\n",
    "\n",
    "# Criando os arquivos em excel\n",
    "nome_arquivo = f'{dia.day}-{dia.month}-{dia.year}-RankingDiario.xlsx'\n",
    "faturamento_lojas_dia.to_excel(rf'Backup Arquivos Lojas\\{nome_arquivo}')"
   ]
  },
  {
   "cell_type": "markdown",
   "metadata": {},
   "source": [
    "### Passo 8 - Enviar e-mail para diretoria"
   ]
  },
  {
   "cell_type": "code",
   "execution_count": null,
   "metadata": {},
   "outputs": [
    {
     "ename": "NameError",
     "evalue": "name 'win32' is not defined",
     "output_type": "error",
     "traceback": [
      "\u001b[1;31m---------------------------------------------------------------------------\u001b[0m",
      "\u001b[1;31mNameError\u001b[0m                                 Traceback (most recent call last)",
      "\u001b[1;32m~\\AppData\\Local\\Temp/ipykernel_14664/3319126388.py\u001b[0m in \u001b[0;36m<module>\u001b[1;34m\u001b[0m\n\u001b[0;32m      1\u001b[0m \u001b[1;31m# Montando o e-mail\u001b[0m\u001b[1;33m\u001b[0m\u001b[1;33m\u001b[0m\u001b[0m\n\u001b[1;32m----> 2\u001b[1;33m \u001b[0moutlook\u001b[0m \u001b[1;33m=\u001b[0m \u001b[0mwin32\u001b[0m\u001b[1;33m.\u001b[0m\u001b[0mDispatch\u001b[0m\u001b[1;33m(\u001b[0m\u001b[1;34m'outlook.application'\u001b[0m\u001b[1;33m)\u001b[0m\u001b[1;33m\u001b[0m\u001b[1;33m\u001b[0m\u001b[0m\n\u001b[0m\u001b[0;32m      3\u001b[0m \u001b[1;33m\u001b[0m\u001b[0m\n\u001b[0;32m      4\u001b[0m \u001b[0mmail\u001b[0m \u001b[1;33m=\u001b[0m \u001b[0moutlook\u001b[0m\u001b[1;33m.\u001b[0m\u001b[0mCreateItem\u001b[0m\u001b[1;33m(\u001b[0m\u001b[1;36m0\u001b[0m\u001b[1;33m)\u001b[0m\u001b[1;33m\u001b[0m\u001b[1;33m\u001b[0m\u001b[0m\n\u001b[0;32m      5\u001b[0m \u001b[0mmail\u001b[0m\u001b[1;33m.\u001b[0m\u001b[0mTo\u001b[0m \u001b[1;33m=\u001b[0m \u001b[0memails\u001b[0m\u001b[1;33m.\u001b[0m\u001b[0mloc\u001b[0m\u001b[1;33m[\u001b[0m\u001b[0memails\u001b[0m\u001b[1;33m[\u001b[0m\u001b[1;34m\"Loja\"\u001b[0m\u001b[1;33m]\u001b[0m \u001b[1;33m==\u001b[0m \u001b[1;34m'Diretoria'\u001b[0m\u001b[1;33m,\u001b[0m \u001b[1;34m'E-mail'\u001b[0m\u001b[1;33m]\u001b[0m\u001b[1;33m.\u001b[0m\u001b[0mvalues\u001b[0m\u001b[1;33m[\u001b[0m\u001b[1;36m0\u001b[0m\u001b[1;33m]\u001b[0m\u001b[1;33m\u001b[0m\u001b[1;33m\u001b[0m\u001b[0m\n",
      "\u001b[1;31mNameError\u001b[0m: name 'win32' is not defined"
     ]
    }
   ],
   "source": [
    "# Montando o e-mail\n",
    "outlook = win32.Dispatch('outlook.application')\n",
    "\n",
    "mail = outlook.CreateItem(0)\n",
    "mail.To = emails.loc[emails[\"Loja\"] == 'Diretoria', 'E-mail'].values[0]\n",
    "mail.Subject = f'Ranking do dia {dia.day}-{dia.month}-{dia.year}'\n",
    "\n",
    "mail.Body = f'''Bom dia à todos, \n",
    "\n",
    "Melhor loja do dia em faturamento foi a {faturamento_lojas_dia.index[0]} com um faturamento de R${faturamento_lojas_dia.iloc[0,0] : ,.2f}\n",
    "Pior loja do dia em faturamento foi a {faturamento_lojas_dia.index[-1]} com um faturamento de R${faturamento_lojas_dia.iloc[-1,0] : ,.2f}\n",
    "\n",
    "Melhor loja do ano em faturamento foi a {faturamento_lojas.index[0]} com um faturamento de R${faturamento_lojas.iloc[0,0] : ,.2f}\n",
    "Pior loja do ano em faturamento foi a {faturamento_lojas.index[-1]} com um faturamento de R${faturamento_lojas.iloc[-1,0] : ,.2f}\n",
    "\n",
    "Att.Erick, Full Stack Web Developer\n",
    "'''\n",
    "attachment =  Path.cwd() / caminho / f'{dia.day}-{dia.month}-{dia.year}-RankingDiario.xlsx'\n",
    "attachment1 = Path.cwd() / caminho / f'{dia.year}-RankingAnual.xlsx'\n",
    "mail.Attachments.Add(str(attachment), str(attachment1))\n",
    "\n",
    "mail.Send()\n",
    "\n",
    "print(\"O email com o ranking da diretoria foi enviado com sucesso!\")"
   ]
  }
 ],
 "metadata": {
  "kernelspec": {
   "display_name": "Python 3",
   "language": "python",
   "name": "python3"
  },
  "language_info": {
   "codemirror_mode": {
    "name": "ipython",
    "version": 3
   },
   "file_extension": ".py",
   "mimetype": "text/x-python",
   "name": "python",
   "nbconvert_exporter": "python",
   "pygments_lexer": "ipython3",
   "version": "3.9.7"
  }
 },
 "nbformat": 4,
 "nbformat_minor": 4
}
